{
 "cells": [
  {
   "cell_type": "code",
   "execution_count": 1,
   "metadata": {
    "collapsed": true
   },
   "outputs": [],
   "source": [
    "import pandas as pd\n",
    "from pandas.api.types import is_numeric_dtype\n",
    "\n",
    "import py_iv_woe as piwo"
   ]
  },
  {
   "cell_type": "markdown",
   "source": [
    "## Load data\n",
    "\n",
    "The dependent variable has to be called 'label'."
   ],
   "metadata": {
    "collapsed": false
   }
  },
  {
   "cell_type": "code",
   "execution_count": 2,
   "outputs": [],
   "source": [
    "url = 'https://raw.githubusercontent.com/IBM/telco-customer-churn-on-icp4d/master/data/Telco-Customer-Churn.csv'\n",
    "df = pd.read_csv(url, na_values=[' '])"
   ],
   "metadata": {
    "collapsed": false,
    "pycharm": {
     "name": "#%%\n"
    }
   }
  },
  {
   "cell_type": "code",
   "execution_count": 3,
   "outputs": [],
   "source": [
    "df.columns = [c[0].lower() + c[1:] for c in df.columns]\n",
    "df['label'] = df['churn'].map({'Yes': 0, 'No': 1})\n",
    "df['seniorCitizen'] = df['seniorCitizen'].map({1: 'Yes', 0: 'No'})\n",
    "df.drop(['customerID', 'churn'], axis=1, inplace=True)"
   ],
   "metadata": {
    "collapsed": false,
    "pycharm": {
     "name": "#%%\n"
    }
   }
  },
  {
   "cell_type": "code",
   "execution_count": 4,
   "outputs": [
    {
     "data": {
      "text/plain": "      gender seniorCitizen partner dependents  tenure phoneService  \\\n497   Female            No     Yes         No      70          Yes   \n817   Female            No     Yes        Yes      55          Yes   \n5318  Female            No     Yes        Yes      32          Yes   \n5926    Male            No      No         No       6          Yes   \n3997  Female            No     Yes         No      69          Yes   \n\n     multipleLines internetService       onlineSecurity         onlineBackup  \\\n497             No              No  No internet service  No internet service   \n817             No     Fiber optic                   No                  Yes   \n5318            No             DSL                  Yes                  Yes   \n5926            No             DSL                  Yes                   No   \n3997            No             DSL                   No                  Yes   \n\n         deviceProtection          techSupport          streamingTV  \\\n497   No internet service  No internet service  No internet service   \n817                   Yes                  Yes                  Yes   \n5318                  Yes                  Yes                   No   \n5926                  Yes                  Yes                  Yes   \n3997                   No                   No                   No   \n\n          streamingMovies        contract paperlessBilling  \\\n497   No internet service        Two year               No   \n817                   Yes        One year              Yes   \n5318                  Yes        Two year               No   \n5926                  Yes  Month-to-month               No   \n3997                  Yes        Two year              Yes   \n\n                  paymentMethod  monthlyCharges  totalCharges  label  \n497   Bank transfer (automatic)           19.80       1397.65      1  \n817   Bank transfer (automatic)          103.70       5656.75      1  \n5318               Mailed check           73.60       2316.85      1  \n5926    Credit card (automatic)           78.65        483.30      1  \n3997    Credit card (automatic)           61.45       4131.20      1  ",
      "text/html": "<div>\n<style scoped>\n    .dataframe tbody tr th:only-of-type {\n        vertical-align: middle;\n    }\n\n    .dataframe tbody tr th {\n        vertical-align: top;\n    }\n\n    .dataframe thead th {\n        text-align: right;\n    }\n</style>\n<table border=\"1\" class=\"dataframe\">\n  <thead>\n    <tr style=\"text-align: right;\">\n      <th></th>\n      <th>gender</th>\n      <th>seniorCitizen</th>\n      <th>partner</th>\n      <th>dependents</th>\n      <th>tenure</th>\n      <th>phoneService</th>\n      <th>multipleLines</th>\n      <th>internetService</th>\n      <th>onlineSecurity</th>\n      <th>onlineBackup</th>\n      <th>deviceProtection</th>\n      <th>techSupport</th>\n      <th>streamingTV</th>\n      <th>streamingMovies</th>\n      <th>contract</th>\n      <th>paperlessBilling</th>\n      <th>paymentMethod</th>\n      <th>monthlyCharges</th>\n      <th>totalCharges</th>\n      <th>label</th>\n    </tr>\n  </thead>\n  <tbody>\n    <tr>\n      <th>497</th>\n      <td>Female</td>\n      <td>No</td>\n      <td>Yes</td>\n      <td>No</td>\n      <td>70</td>\n      <td>Yes</td>\n      <td>No</td>\n      <td>No</td>\n      <td>No internet service</td>\n      <td>No internet service</td>\n      <td>No internet service</td>\n      <td>No internet service</td>\n      <td>No internet service</td>\n      <td>No internet service</td>\n      <td>Two year</td>\n      <td>No</td>\n      <td>Bank transfer (automatic)</td>\n      <td>19.80</td>\n      <td>1397.65</td>\n      <td>1</td>\n    </tr>\n    <tr>\n      <th>817</th>\n      <td>Female</td>\n      <td>No</td>\n      <td>Yes</td>\n      <td>Yes</td>\n      <td>55</td>\n      <td>Yes</td>\n      <td>No</td>\n      <td>Fiber optic</td>\n      <td>No</td>\n      <td>Yes</td>\n      <td>Yes</td>\n      <td>Yes</td>\n      <td>Yes</td>\n      <td>Yes</td>\n      <td>One year</td>\n      <td>Yes</td>\n      <td>Bank transfer (automatic)</td>\n      <td>103.70</td>\n      <td>5656.75</td>\n      <td>1</td>\n    </tr>\n    <tr>\n      <th>5318</th>\n      <td>Female</td>\n      <td>No</td>\n      <td>Yes</td>\n      <td>Yes</td>\n      <td>32</td>\n      <td>Yes</td>\n      <td>No</td>\n      <td>DSL</td>\n      <td>Yes</td>\n      <td>Yes</td>\n      <td>Yes</td>\n      <td>Yes</td>\n      <td>No</td>\n      <td>Yes</td>\n      <td>Two year</td>\n      <td>No</td>\n      <td>Mailed check</td>\n      <td>73.60</td>\n      <td>2316.85</td>\n      <td>1</td>\n    </tr>\n    <tr>\n      <th>5926</th>\n      <td>Male</td>\n      <td>No</td>\n      <td>No</td>\n      <td>No</td>\n      <td>6</td>\n      <td>Yes</td>\n      <td>No</td>\n      <td>DSL</td>\n      <td>Yes</td>\n      <td>No</td>\n      <td>Yes</td>\n      <td>Yes</td>\n      <td>Yes</td>\n      <td>Yes</td>\n      <td>Month-to-month</td>\n      <td>No</td>\n      <td>Credit card (automatic)</td>\n      <td>78.65</td>\n      <td>483.30</td>\n      <td>1</td>\n    </tr>\n    <tr>\n      <th>3997</th>\n      <td>Female</td>\n      <td>No</td>\n      <td>Yes</td>\n      <td>No</td>\n      <td>69</td>\n      <td>Yes</td>\n      <td>No</td>\n      <td>DSL</td>\n      <td>No</td>\n      <td>Yes</td>\n      <td>No</td>\n      <td>No</td>\n      <td>No</td>\n      <td>Yes</td>\n      <td>Two year</td>\n      <td>Yes</td>\n      <td>Credit card (automatic)</td>\n      <td>61.45</td>\n      <td>4131.20</td>\n      <td>1</td>\n    </tr>\n  </tbody>\n</table>\n</div>"
     },
     "execution_count": 4,
     "metadata": {},
     "output_type": "execute_result"
    }
   ],
   "source": [
    "df.sample(5)"
   ],
   "metadata": {
    "collapsed": false,
    "pycharm": {
     "name": "#%%\n"
    }
   }
  },
  {
   "cell_type": "markdown",
   "source": [
    "## Create Feature objects"
   ],
   "metadata": {
    "collapsed": false
   }
  },
  {
   "cell_type": "code",
   "execution_count": 5,
   "outputs": [],
   "source": [
    "feats_dict = {}\n",
    "\n",
    "for col in [c for c in df.columns if c != 'label']:\n",
    "    if is_numeric_dtype(df[col]):\n",
    "        feats_dict[col] = piwo.ContinuousFeature(df, col)\n",
    "    else:\n",
    "        feats_dict[col] = piwo.CategoricalFeature(df, col)\n",
    "\n",
    "feats = list(feats_dict.values())"
   ],
   "metadata": {
    "collapsed": false,
    "pycharm": {
     "name": "#%%\n"
    }
   }
  },
  {
   "cell_type": "markdown",
   "source": [
    "## Calculate Information Value"
   ],
   "metadata": {
    "collapsed": false
   }
  },
  {
   "cell_type": "code",
   "execution_count": 6,
   "outputs": [],
   "source": [
    "# create necessary objects\n",
    "iv = piwo.IV()\n",
    "s = piwo.StatsSignificance()\n",
    "ar = piwo.AttributeRelevance()"
   ],
   "metadata": {
    "collapsed": false,
    "pycharm": {
     "name": "#%%\n"
    }
   }
  },
  {
   "cell_type": "code",
   "execution_count": 7,
   "outputs": [
    {
     "data": {
      "text/plain": "                        iv        p-value  effect_size iv_interpretation  \\\ncontract          1.238560  5.863038e-258     0.410116        suspicious   \ntenure            0.777926  7.413515e-205     0.369846        suspicious   \nonlineSecurity    0.717777  2.661150e-185     0.347400        suspicious   \ntechSupport       0.699567  1.443084e-180     0.342916        suspicious   \ninternetService   0.617953  9.571788e-160     0.322455        suspicious   \nonlineBackup      0.528634  2.079759e-131     0.292316        suspicious   \ndeviceProtection  0.499725  5.505219e-122     0.281580            strong   \npaymentMethod     0.457109  3.682355e-140     0.303359            strong   \nstreamingMovies   0.381374   2.667757e-82     0.230951            strong   \nstreamingTV       0.380462   5.528994e-82     0.230502            strong   \ntotalCharges      0.315230   1.027752e-94     0.253656            strong   \npaperlessBilling  0.203068   4.073355e-58     0.191498            medium   \nmonthlyCharges    0.173429   5.008386e-48     0.175864            medium   \ndependents        0.155488   4.924922e-43     0.163870            medium   \npartner           0.118729   2.139911e-36     0.150126            medium   \nseniorCitizen     0.105621   1.510067e-36     0.150453            medium   \nmultipleLines     0.008207   3.464383e-03     0.040109           useless   \nphoneService      0.000745   3.387825e-01     0.011398           useless   \ngender            0.000380   4.865787e-01     0.008291           useless   \n\n                 es_interpretation  \ncontract                    strong  \ntenure                      medium  \nonlineSecurity              medium  \ntechSupport                 medium  \ninternetService             medium  \nonlineBackup                medium  \ndeviceProtection            medium  \npaymentMethod               medium  \nstreamingMovies             medium  \nstreamingTV                 medium  \ntotalCharges                medium  \npaperlessBilling              weak  \nmonthlyCharges                weak  \ndependents                    weak  \npartner                       weak  \nseniorCitizen                 weak  \nmultipleLines              useless  \nphoneService               useless  \ngender                     useless  ",
      "text/html": "<div>\n<style scoped>\n    .dataframe tbody tr th:only-of-type {\n        vertical-align: middle;\n    }\n\n    .dataframe tbody tr th {\n        vertical-align: top;\n    }\n\n    .dataframe thead th {\n        text-align: right;\n    }\n</style>\n<table border=\"1\" class=\"dataframe\">\n  <thead>\n    <tr style=\"text-align: right;\">\n      <th></th>\n      <th>iv</th>\n      <th>p-value</th>\n      <th>effect_size</th>\n      <th>iv_interpretation</th>\n      <th>es_interpretation</th>\n    </tr>\n  </thead>\n  <tbody>\n    <tr>\n      <th>contract</th>\n      <td>1.238560</td>\n      <td>5.863038e-258</td>\n      <td>0.410116</td>\n      <td>suspicious</td>\n      <td>strong</td>\n    </tr>\n    <tr>\n      <th>tenure</th>\n      <td>0.777926</td>\n      <td>7.413515e-205</td>\n      <td>0.369846</td>\n      <td>suspicious</td>\n      <td>medium</td>\n    </tr>\n    <tr>\n      <th>onlineSecurity</th>\n      <td>0.717777</td>\n      <td>2.661150e-185</td>\n      <td>0.347400</td>\n      <td>suspicious</td>\n      <td>medium</td>\n    </tr>\n    <tr>\n      <th>techSupport</th>\n      <td>0.699567</td>\n      <td>1.443084e-180</td>\n      <td>0.342916</td>\n      <td>suspicious</td>\n      <td>medium</td>\n    </tr>\n    <tr>\n      <th>internetService</th>\n      <td>0.617953</td>\n      <td>9.571788e-160</td>\n      <td>0.322455</td>\n      <td>suspicious</td>\n      <td>medium</td>\n    </tr>\n    <tr>\n      <th>onlineBackup</th>\n      <td>0.528634</td>\n      <td>2.079759e-131</td>\n      <td>0.292316</td>\n      <td>suspicious</td>\n      <td>medium</td>\n    </tr>\n    <tr>\n      <th>deviceProtection</th>\n      <td>0.499725</td>\n      <td>5.505219e-122</td>\n      <td>0.281580</td>\n      <td>strong</td>\n      <td>medium</td>\n    </tr>\n    <tr>\n      <th>paymentMethod</th>\n      <td>0.457109</td>\n      <td>3.682355e-140</td>\n      <td>0.303359</td>\n      <td>strong</td>\n      <td>medium</td>\n    </tr>\n    <tr>\n      <th>streamingMovies</th>\n      <td>0.381374</td>\n      <td>2.667757e-82</td>\n      <td>0.230951</td>\n      <td>strong</td>\n      <td>medium</td>\n    </tr>\n    <tr>\n      <th>streamingTV</th>\n      <td>0.380462</td>\n      <td>5.528994e-82</td>\n      <td>0.230502</td>\n      <td>strong</td>\n      <td>medium</td>\n    </tr>\n    <tr>\n      <th>totalCharges</th>\n      <td>0.315230</td>\n      <td>1.027752e-94</td>\n      <td>0.253656</td>\n      <td>strong</td>\n      <td>medium</td>\n    </tr>\n    <tr>\n      <th>paperlessBilling</th>\n      <td>0.203068</td>\n      <td>4.073355e-58</td>\n      <td>0.191498</td>\n      <td>medium</td>\n      <td>weak</td>\n    </tr>\n    <tr>\n      <th>monthlyCharges</th>\n      <td>0.173429</td>\n      <td>5.008386e-48</td>\n      <td>0.175864</td>\n      <td>medium</td>\n      <td>weak</td>\n    </tr>\n    <tr>\n      <th>dependents</th>\n      <td>0.155488</td>\n      <td>4.924922e-43</td>\n      <td>0.163870</td>\n      <td>medium</td>\n      <td>weak</td>\n    </tr>\n    <tr>\n      <th>partner</th>\n      <td>0.118729</td>\n      <td>2.139911e-36</td>\n      <td>0.150126</td>\n      <td>medium</td>\n      <td>weak</td>\n    </tr>\n    <tr>\n      <th>seniorCitizen</th>\n      <td>0.105621</td>\n      <td>1.510067e-36</td>\n      <td>0.150453</td>\n      <td>medium</td>\n      <td>weak</td>\n    </tr>\n    <tr>\n      <th>multipleLines</th>\n      <td>0.008207</td>\n      <td>3.464383e-03</td>\n      <td>0.040109</td>\n      <td>useless</td>\n      <td>useless</td>\n    </tr>\n    <tr>\n      <th>phoneService</th>\n      <td>0.000745</td>\n      <td>3.387825e-01</td>\n      <td>0.011398</td>\n      <td>useless</td>\n      <td>useless</td>\n    </tr>\n    <tr>\n      <th>gender</th>\n      <td>0.000380</td>\n      <td>4.865787e-01</td>\n      <td>0.008291</td>\n      <td>useless</td>\n      <td>useless</td>\n    </tr>\n  </tbody>\n</table>\n</div>"
     },
     "execution_count": 7,
     "metadata": {},
     "output_type": "execute_result"
    }
   ],
   "source": [
    "ar.analyze(feats, iv, s, interpretation=True)"
   ],
   "metadata": {
    "collapsed": false,
    "pycharm": {
     "name": "#%%\n"
    }
   }
  },
  {
   "cell_type": "code",
   "execution_count": 7,
   "outputs": [],
   "source": [],
   "metadata": {
    "collapsed": false,
    "pycharm": {
     "name": "#%%\n"
    }
   }
  }
 ],
 "metadata": {
  "kernelspec": {
   "display_name": "Python 3",
   "language": "python",
   "name": "python3"
  },
  "language_info": {
   "codemirror_mode": {
    "name": "ipython",
    "version": 2
   },
   "file_extension": ".py",
   "mimetype": "text/x-python",
   "name": "python",
   "nbconvert_exporter": "python",
   "pygments_lexer": "ipython2",
   "version": "2.7.6"
  }
 },
 "nbformat": 4,
 "nbformat_minor": 0
}